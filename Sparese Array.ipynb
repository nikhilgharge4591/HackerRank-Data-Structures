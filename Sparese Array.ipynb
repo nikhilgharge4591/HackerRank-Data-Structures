{
 "cells": [
  {
   "cell_type": "code",
   "execution_count": null,
   "metadata": {},
   "outputs": [],
   "source": [
    "def count(target, source):\n",
    "\tcounter = 0\n",
    "\tfor item in source:\n",
    "\t\tif item == target:\n",
    "\t\t\tcounter += 1\n",
    "\treturn counter\n",
    "\n",
    "\n",
    "N = int(input())\n",
    "strings = []\n",
    "for _ in range(N):\n",
    "\tstring = input()\n",
    "\tstrings.append(string)\n",
    "\n",
    "Q = int(input())\n",
    "for __ in range(Q):\n",
    "\tquery = input()\n",
    "\toccurrences = count(query, strings)\n",
    "\tprint(occurrences)"
   ]
  }
 ],
 "metadata": {
  "kernelspec": {
   "display_name": "Python 3",
   "language": "python",
   "name": "python3"
  },
  "language_info": {
   "codemirror_mode": {
    "name": "ipython",
    "version": 3
   },
   "file_extension": ".py",
   "mimetype": "text/x-python",
   "name": "python",
   "nbconvert_exporter": "python",
   "pygments_lexer": "ipython3",
   "version": "3.7.6"
  }
 },
 "nbformat": 4,
 "nbformat_minor": 4
}
