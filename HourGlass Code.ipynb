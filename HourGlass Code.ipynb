{
 "cells": [
  {
   "cell_type": "code",
   "execution_count": null,
   "metadata": {},
   "outputs": [],
   "source": [
    "# Hourglass Code\n",
    "\n",
    "# Complete the hourglassSum function below.\n",
    "\n",
    "# Above code will follow a particular pattern and give you the max value of hourglass from SumlistArray\n",
    "\n",
    "def hourglassSum(arr):\n",
    "    sumList = []\n",
    "    for i in range(0,4):\n",
    "       for j in range(0, 4):\n",
    "        sumElement_hourglass = arr[i][j] + arr[i][j+1] + arr[i][j+2] + arr[i+1][j+1] + arr[i+2][j] + arr[i+2][j+1] + arr[i+2][j+2]\n",
    "        sumList.append(sumElement_hourglass)\n",
    "    return max(sumList)"
   ]
  },
  {
   "cell_type": "code",
   "execution_count": null,
   "metadata": {},
   "outputs": [],
   "source": []
  }
 ],
 "metadata": {
  "kernelspec": {
   "display_name": "Python 3",
   "language": "python",
   "name": "python3"
  },
  "language_info": {
   "codemirror_mode": {
    "name": "ipython",
    "version": 3
   },
   "file_extension": ".py",
   "mimetype": "text/x-python",
   "name": "python",
   "nbconvert_exporter": "python",
   "pygments_lexer": "ipython3",
   "version": "3.7.6"
  }
 },
 "nbformat": 4,
 "nbformat_minor": 4
}
